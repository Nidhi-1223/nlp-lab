{
 "cells": [
  {
   "cell_type": "code",
   "execution_count": 19,
   "id": "09d79fa1",
   "metadata": {},
   "outputs": [
    {
     "name": "stdout",
     "output_type": "stream",
     "text": [
      "['the', 'quick', 'brown', 'fox', 'jumps', 'over', 'the', 'lazy', 'dog']\n",
      "the: DT : determinator\n",
      "quick: JJ : adjective\n",
      "brown: NN : noun\n",
      "fox: NN : noun\n",
      "jumps: VBZ : verb\n",
      "over: IN : preposition\n",
      "the: DT : determinator\n",
      "lazy: JJ : adjective\n",
      "dog: NN : noun\n"
     ]
    },
    {
     "name": "stderr",
     "output_type": "stream",
     "text": [
      "[nltk_data] Downloading package punkt to\n",
      "[nltk_data]     C:\\Users\\nidhi\\AppData\\Roaming\\nltk_data...\n",
      "[nltk_data]   Package punkt is already up-to-date!\n",
      "[nltk_data] Downloading package averaged_perceptron_tagger to\n",
      "[nltk_data]     C:\\Users\\nidhi\\AppData\\Roaming\\nltk_data...\n",
      "[nltk_data]   Package averaged_perceptron_tagger is already up-to-\n",
      "[nltk_data]       date!\n"
     ]
    }
   ],
   "source": [
    "import nltk\n",
    "import re\n",
    "\n",
    "# Download the NLTK data for POS tagging\n",
    "nltk.download(\"punkt\")\n",
    "nltk.download(\"averaged_perceptron_tagger\")\n",
    "\n",
    "# Sample text\n",
    "text = \"The quick brown fox jumps over the lazy dog.\"\n",
    "\n",
    "# Tokenize the text\n",
    "tokens = nltk.word_tokenize(text)\n",
    "\n",
    "filtered_tokens = [re.sub(r'[^a-zA-Z0-9]', '', token).lower() for token in tokens]\n",
    "latin_tokens = [token for token in filtered_tokens if re.match('^[a-zA-Z0-9]+$', token)]\n",
    "# latin_characters = [token for token in filtered_tokens if re.match('^[a-zA-Z]+$', token) ]\n",
    "# Perform POS tagging\n",
    "pos_tags = nltk.pos_tag(latin_tokens)\n",
    "print(latin_tokens)\n",
    "\n",
    "entity_dict = {'DT' : 'determinator',\n",
    "               'NN' : 'noun',\n",
    "               'JJ' : 'adjective',\n",
    "               'VBZ': 'verb',\n",
    "               'IN' : 'preposition',\n",
    "               '.'  : '.'}\n",
    "\n",
    "# Print the POS tags\n",
    "for word, pos_tag in pos_tags:\n",
    "    # print(f\"{word}: {pos_tag} \")\n",
    "    print(f\"{word}: {pos_tag} : {entity_dict[pos_tag]}\")\n"
   ]
  },
  {
   "cell_type": "code",
   "execution_count": 5,
   "id": "8992b01a",
   "metadata": {},
   "outputs": [
    {
     "data": {
      "text/plain": [
       "<function nltk.tag.pos_tag(tokens, tagset=None, lang='eng')>"
      ]
     },
     "execution_count": 5,
     "metadata": {},
     "output_type": "execute_result"
    }
   ],
   "source": [
    "nltk.pos_tag"
   ]
  }
 ],
 "metadata": {
  "kernelspec": {
   "display_name": "Python 3 (ipykernel)",
   "language": "python",
   "name": "python3"
  },
  "language_info": {
   "codemirror_mode": {
    "name": "ipython",
    "version": 3
   },
   "file_extension": ".py",
   "mimetype": "text/x-python",
   "name": "python",
   "nbconvert_exporter": "python",
   "pygments_lexer": "ipython3",
   "version": "3.9.5"
  }
 },
 "nbformat": 4,
 "nbformat_minor": 5
}
